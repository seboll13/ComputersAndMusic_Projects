{
 "cells": [
  {
   "cell_type": "markdown",
   "id": "d3de2a2f",
   "metadata": {},
   "source": [
    "## Basic code using spaudiopy package\n",
    "- Docs: https://spaudiopy.readthedocs.io/en/latest/index.html\n",
    "- GitHub: https://github.com/chris-hld/spaudiopy"
   ]
  },
  {
   "cell_type": "code",
   "execution_count": 13,
   "id": "0f8506f5",
   "metadata": {},
   "outputs": [],
   "source": [
    "# Check spaudiopy.sig functions to open MONO signal and play with HRIRs\n",
    "import spaudiopy as spa\n",
    "from spaudiopy.sig import MonoSignal as ms\n",
    "piano_test = ms.from_file(\"piano_testfile.wav\")\n",
    "piano_test.trim(0, 4) # keep first 3 seconds of file"
   ]
  },
  {
   "cell_type": "markdown",
   "id": "e3569ecd",
   "metadata": {},
   "source": [
    "## Tools\n",
    "We use three parameters to locate an HRTF:\n",
    "1. *Azimuth*: angle between position and sound location on the $xy$-plane\n",
    "2. *Elevation*: angle between position and sound location on the $xz$-plane\n",
    "3. *Time* or *Frequency*: time period or frequency of emitted sound w.r.t. actual position\n",
    "\n",
    "Math tools:\n",
    "- *Haversine distance*: Consider two points $x_1$ and $x_2$ on a sphere with respective latitudes and longitudes $(\\varphi_1,\\varphi_2)$ and $(\\theta_1,\\theta_2)$. The Haversine distance $D(x_1,x_2)$ is the angular distance between them on the surface of the sphere given by $$D(x_1,x_2)=2\\arcsin\\sqrt{\\sin^2\\left(\\frac{\\varphi_2-\\varphi_1}{2}\\right)+\\cos x_1\\cos y_1\\sin^2\\left(\\frac{\\theta_2-\\theta_1}{2}\\right)}.$$ We use this distance when wanting to find the closest HRIR point from a grid."
   ]
  },
  {
   "cell_type": "code",
   "execution_count": 14,
   "id": "50eeb380",
   "metadata": {},
   "outputs": [],
   "source": [
    "piano_test.play()"
   ]
  },
  {
   "cell_type": "code",
   "execution_count": null,
   "id": "d9a3bbaf",
   "metadata": {},
   "outputs": [],
   "source": []
  }
 ],
 "metadata": {
  "kernelspec": {
   "display_name": "Python 3 (ipykernel)",
   "language": "python",
   "name": "python3"
  },
  "language_info": {
   "codemirror_mode": {
    "name": "ipython",
    "version": 3
   },
   "file_extension": ".py",
   "mimetype": "text/x-python",
   "name": "python",
   "nbconvert_exporter": "python",
   "pygments_lexer": "ipython3",
   "version": "3.9.7"
  }
 },
 "nbformat": 4,
 "nbformat_minor": 5
}
