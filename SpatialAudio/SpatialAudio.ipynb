{
 "cells": [
  {
   "cell_type": "code",
   "execution_count": 1,
   "id": "f5d863d2",
   "metadata": {},
   "outputs": [],
   "source": [
    "from direct.showbase import Audio3DManager\n",
    "from direct.showbase.ShowBase import ShowBase\n",
    "\n",
    "import time"
   ]
  },
  {
   "cell_type": "code",
   "execution_count": 2,
   "id": "c4fe35a0",
   "metadata": {},
   "outputs": [
    {
     "name": "stderr",
     "output_type": "stream",
     "text": [
      "Known pipe types:\n",
      "  CocoaGraphicsPipe\n",
      "(all display modules loaded.)\n"
     ]
    },
    {
     "ename": "IpyExit",
     "evalue": "",
     "output_type": "error",
     "traceback": [
      "An exception has occurred, use %tb to see the full traceback.\n",
      "\u001b[0;31mIpyExit\u001b[0m\n"
     ]
    }
   ],
   "source": [
    "import exit as ex\n",
    "# Mono\n",
    "base = ShowBase()\n",
    "test_sound = base.loader.loadSfx('piano_testfile.wav')\n",
    "test_sound.play()\n",
    "time.sleep(5)\n",
    "test_sound.stop()\n",
    "ex.exit()"
   ]
  },
  {
   "cell_type": "code",
   "execution_count": 2,
   "id": "29495324",
   "metadata": {},
   "outputs": [
    {
     "name": "stderr",
     "output_type": "stream",
     "text": [
      "Known pipe types:\n",
      "  CocoaGraphicsPipe\n",
      "(all display modules loaded.)\n"
     ]
    },
    {
     "ename": "NameError",
     "evalue": "name 'teapot' is not defined",
     "output_type": "error",
     "traceback": [
      "\u001b[0;31m---------------------------------------------------------------------------\u001b[0m",
      "\u001b[0;31mNameError\u001b[0m                                 Traceback (most recent call last)",
      "Input \u001b[0;32mIn [2]\u001b[0m, in \u001b[0;36m<cell line: 5>\u001b[0;34m()\u001b[0m\n\u001b[1;32m      3\u001b[0m audio3d \u001b[38;5;241m=\u001b[39m Audio3DManager\u001b[38;5;241m.\u001b[39mAudio3DManager(base\u001b[38;5;241m.\u001b[39msfxManagerList[\u001b[38;5;241m0\u001b[39m], camera)\n\u001b[1;32m      4\u001b[0m test_sound \u001b[38;5;241m=\u001b[39m audio3d\u001b[38;5;241m.\u001b[39mloadSfx(\u001b[38;5;124m'\u001b[39m\u001b[38;5;124mpiano_testfile.wav\u001b[39m\u001b[38;5;124m'\u001b[39m)\n\u001b[0;32m----> 5\u001b[0m audio3d\u001b[38;5;241m.\u001b[39mattachSoundToObject(test_sound, \u001b[43mteapot\u001b[49m)\n\u001b[1;32m      6\u001b[0m test_sound\u001b[38;5;241m.\u001b[39mplay()\n\u001b[1;32m      7\u001b[0m time\u001b[38;5;241m.\u001b[39msleep(\u001b[38;5;241m5\u001b[39m)\n",
      "\u001b[0;31mNameError\u001b[0m: name 'teapot' is not defined"
     ]
    }
   ],
   "source": [
    "# 3D\n",
    "base = ShowBase()\n",
    "audio3d = Audio3DManager.Audio3DManager(base.sfxManagerList[0], camera)\n",
    "test_sound = audio3d.loadSfx('piano_testfile.wav')\n",
    "test_sound.play()\n",
    "time.sleep(5)\n",
    "test_sound.stop()"
   ]
  },
  {
   "cell_type": "code",
   "execution_count": 1,
   "id": "8473175b",
   "metadata": {},
   "outputs": [
    {
     "name": "stdout",
     "output_type": "stream",
     "text": [
      "\u001b[33mDEPRECATION: Configuring installation scheme with distutils config files is deprecated and will no longer work in the near future. If you are using a Homebrew or Linuxbrew Python, please see discussion at https://github.com/Homebrew/homebrew-core/issues/76621\u001b[0m\u001b[33m\n",
      "\u001b[0mRequirement already satisfied: h5py in /opt/homebrew/lib/python3.9/site-packages (3.6.0)\n",
      "Requirement already satisfied: numpy>=1.14.5 in /opt/homebrew/lib/python3.9/site-packages (from h5py) (1.21.6)\n",
      "\u001b[33mDEPRECATION: Configuring installation scheme with distutils config files is deprecated and will no longer work in the near future. If you are using a Homebrew or Linuxbrew Python, please see discussion at https://github.com/Homebrew/homebrew-core/issues/76621\u001b[0m\u001b[33m\n",
      "\u001b[0m\u001b[33mDEPRECATION: Configuring installation scheme with distutils config files is deprecated and will no longer work in the near future. If you are using a Homebrew or Linuxbrew Python, please see discussion at https://github.com/Homebrew/homebrew-core/issues/76621\u001b[0m\u001b[33m\n",
      "\u001b[0mRequirement already satisfied: spaudiopy in /opt/homebrew/lib/python3.9/site-packages (0.1.4)\n",
      "Requirement already satisfied: matplotlib!=3.1.*,!=3.2.* in /opt/homebrew/lib/python3.9/site-packages (from spaudiopy) (3.5.1)\n",
      "Requirement already satisfied: soundfile in /opt/homebrew/lib/python3.9/site-packages (from spaudiopy) (0.10.3.post1)\n",
      "Requirement already satisfied: h5py in /opt/homebrew/lib/python3.9/site-packages (from spaudiopy) (3.6.0)\n",
      "Requirement already satisfied: joblib in /opt/homebrew/lib/python3.9/site-packages (from spaudiopy) (1.1.0)\n",
      "Requirement already satisfied: resampy in /opt/homebrew/lib/python3.9/site-packages (from spaudiopy) (0.2.2)\n",
      "Requirement already satisfied: pandas in /opt/homebrew/lib/python3.9/site-packages (from spaudiopy) (1.4.2)\n",
      "Requirement already satisfied: numpy in /opt/homebrew/lib/python3.9/site-packages (from spaudiopy) (1.21.6)\n",
      "Requirement already satisfied: scipy in /opt/homebrew/lib/python3.9/site-packages (from spaudiopy) (1.8.0)\n",
      "Requirement already satisfied: sounddevice in /opt/homebrew/lib/python3.9/site-packages (from spaudiopy) (0.4.4)\n",
      "Requirement already satisfied: packaging>=20.0 in /opt/homebrew/lib/python3.9/site-packages (from matplotlib!=3.1.*,!=3.2.*->spaudiopy) (21.3)\n",
      "Requirement already satisfied: pyparsing>=2.2.1 in /opt/homebrew/lib/python3.9/site-packages (from matplotlib!=3.1.*,!=3.2.*->spaudiopy) (3.0.7)\n",
      "Requirement already satisfied: python-dateutil>=2.7 in /opt/homebrew/lib/python3.9/site-packages (from matplotlib!=3.1.*,!=3.2.*->spaudiopy) (2.8.2)\n",
      "Requirement already satisfied: kiwisolver>=1.0.1 in /opt/homebrew/lib/python3.9/site-packages (from matplotlib!=3.1.*,!=3.2.*->spaudiopy) (1.4.0)\n",
      "Requirement already satisfied: fonttools>=4.22.0 in /opt/homebrew/lib/python3.9/site-packages (from matplotlib!=3.1.*,!=3.2.*->spaudiopy) (4.31.2)\n",
      "Requirement already satisfied: pillow>=6.2.0 in /opt/homebrew/lib/python3.9/site-packages (from matplotlib!=3.1.*,!=3.2.*->spaudiopy) (9.0.1)\n",
      "Requirement already satisfied: cycler>=0.10 in /opt/homebrew/lib/python3.9/site-packages (from matplotlib!=3.1.*,!=3.2.*->spaudiopy) (0.11.0)\n",
      "Requirement already satisfied: pytz>=2020.1 in /opt/homebrew/lib/python3.9/site-packages (from pandas->spaudiopy) (2022.1)\n",
      "Requirement already satisfied: six>=1.3 in /opt/homebrew/lib/python3.9/site-packages (from resampy->spaudiopy) (1.16.0)\n",
      "Requirement already satisfied: numba>=0.32 in /opt/homebrew/lib/python3.9/site-packages (from resampy->spaudiopy) (0.55.1)\n",
      "Requirement already satisfied: CFFI>=1.0 in /opt/homebrew/lib/python3.9/site-packages (from sounddevice->spaudiopy) (1.15.0)\n",
      "Requirement already satisfied: pycparser in /opt/homebrew/lib/python3.9/site-packages (from CFFI>=1.0->sounddevice->spaudiopy) (2.21)\n",
      "Requirement already satisfied: setuptools in /opt/homebrew/lib/python3.9/site-packages (from numba>=0.32->resampy->spaudiopy) (60.10.0)\n",
      "Requirement already satisfied: llvmlite<0.39,>=0.38.0rc1 in /opt/homebrew/lib/python3.9/site-packages (from numba>=0.32->resampy->spaudiopy) (0.38.0)\n",
      "\u001b[33mDEPRECATION: Configuring installation scheme with distutils config files is deprecated and will no longer work in the near future. If you are using a Homebrew or Linuxbrew Python, please see discussion at https://github.com/Homebrew/homebrew-core/issues/76621\u001b[0m\u001b[33m\n",
      "\u001b[0m"
     ]
    }
   ],
   "source": [
    "import os\n",
    "hdf5_path = \"/opt/homebrew/opt/hdf5@1.12@\"\n",
    "os.system(\"export HDF5_DIR=\" + hdf5_path)\n",
    "!pip install h5py\n",
    "!pip install spaudiopy"
   ]
  },
  {
   "cell_type": "code",
   "execution_count": null,
   "id": "47679991",
   "metadata": {},
   "outputs": [],
   "source": []
  }
 ],
 "metadata": {
  "kernelspec": {
   "display_name": "Python 3 (ipykernel)",
   "language": "python",
   "name": "python3"
  },
  "language_info": {
   "codemirror_mode": {
    "name": "ipython",
    "version": 3
   },
   "file_extension": ".py",
   "mimetype": "text/x-python",
   "name": "python",
   "nbconvert_exporter": "python",
   "pygments_lexer": "ipython3",
   "version": "3.9.12"
  }
 },
 "nbformat": 4,
 "nbformat_minor": 5
}
